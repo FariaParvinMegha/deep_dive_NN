{
  "nbformat": 4,
  "nbformat_minor": 0,
  "metadata": {
    "colab": {
      "provenance": [],
      "collapsed_sections": [
        "zC8_-PI27PUf"
      ],
      "authorship_tag": "ABX9TyOBgR1EIHQY1oUDzxJS60+M",
      "include_colab_link": true
    },
    "kernelspec": {
      "name": "python3",
      "display_name": "Python 3"
    },
    "language_info": {
      "name": "python"
    }
  },
  "cells": [
    {
      "cell_type": "markdown",
      "metadata": {
        "id": "view-in-github",
        "colab_type": "text"
      },
      "source": [
        "<a href=\"https://colab.research.google.com/github/FariaParvinMegha/deep_dive_NN/blob/main/micrograd%3F.ipynb\" target=\"_parent\"><img src=\"https://colab.research.google.com/assets/colab-badge.svg\" alt=\"Open In Colab\"/></a>"
      ]
    },
    {
      "cell_type": "code",
      "execution_count": 2,
      "metadata": {
        "id": "wpKJU4NoDViz"
      },
      "outputs": [],
      "source": [
        "import math\n",
        "import numpy as np\n",
        "import matplotlib.pyplot as plt"
      ]
    },
    {
      "cell_type": "markdown",
      "source": [
        "# fundamental idea"
      ],
      "metadata": {
        "id": "zC8_-PI27PUf"
      }
    },
    {
      "cell_type": "code",
      "source": [
        "def f(x):\n",
        "  return 3*x**2 - 4*x + 5"
      ],
      "metadata": {
        "id": "cnDjbUG1D0SD"
      },
      "execution_count": 3,
      "outputs": []
    },
    {
      "cell_type": "code",
      "source": [
        "f(3.0)"
      ],
      "metadata": {
        "colab": {
          "base_uri": "https://localhost:8080/"
        },
        "id": "jT4rd1gsD_AR",
        "outputId": "61464d51-55b3-4ba7-8f59-5c78f97c8b08"
      },
      "execution_count": null,
      "outputs": [
        {
          "output_type": "execute_result",
          "data": {
            "text/plain": [
              "20.0"
            ]
          },
          "metadata": {},
          "execution_count": 3
        }
      ]
    },
    {
      "cell_type": "code",
      "source": [
        "xs = np.arange(-5, 5, 0.25)\n",
        "print (xs)\n",
        "\n",
        "ys = f(xs)\n",
        "print(ys)\n",
        "\n",
        "plt.plot(xs, ys)\n",
        "plt.show()"
      ],
      "metadata": {
        "colab": {
          "base_uri": "https://localhost:8080/",
          "height": 586
        },
        "id": "1ouGX37LEHYS",
        "outputId": "4e4740b6-3a37-434a-ed09-b9eb689e2d8b"
      },
      "execution_count": null,
      "outputs": [
        {
          "output_type": "stream",
          "name": "stdout",
          "text": [
            "[-5.   -4.75 -4.5  -4.25 -4.   -3.75 -3.5  -3.25 -3.   -2.75 -2.5  -2.25\n",
            " -2.   -1.75 -1.5  -1.25 -1.   -0.75 -0.5  -0.25  0.    0.25  0.5   0.75\n",
            "  1.    1.25  1.5   1.75  2.    2.25  2.5   2.75  3.    3.25  3.5   3.75\n",
            "  4.    4.25  4.5   4.75]\n",
            "[100.      91.6875  83.75    76.1875  69.      62.1875  55.75    49.6875\n",
            "  44.      38.6875  33.75    29.1875  25.      21.1875  17.75    14.6875\n",
            "  12.       9.6875   7.75     6.1875   5.       4.1875   3.75     3.6875\n",
            "   4.       4.6875   5.75     7.1875   9.      11.1875  13.75    16.6875\n",
            "  20.      23.6875  27.75    32.1875  37.      42.1875  47.75    53.6875]\n"
          ]
        },
        {
          "output_type": "display_data",
          "data": {
            "text/plain": [
              "<Figure size 640x480 with 1 Axes>"
            ],
            "image/png": "[encoded data removed]"
          },
          "metadata": {}
        }
      ]
    },
    {
      "cell_type": "code",
      "source": [
        "h = 0.00000001\n",
        "x = 2/3\n",
        "(f(x+h) - f(x))/h"
      ],
      "metadata": {
        "colab": {
          "base_uri": "https://localhost:8080/"
        },
        "id": "uSgoWAMzEM6K",
        "outputId": "764c54cf-d177-4e6e-e747-4c36d58e45e4"
      },
      "execution_count": null,
      "outputs": [
        {
          "output_type": "execute_result",
          "data": {
            "text/plain": [
              "0.0"
            ]
          },
          "metadata": {},
          "execution_count": 5
        }
      ]
    },
    {
      "cell_type": "markdown",
      "source": [
        "a bit more complex"
      ],
      "metadata": {
        "id": "H5sG8hbhFmuT"
      }
    },
    {
      "cell_type": "code",
      "source": [
        "h = 0.0001\n",
        "\n",
        "# input\n",
        "a = 2.0\n",
        "b = -3.0\n",
        "c = 10.0\n",
        "\n",
        "d1 = a*b+c\n",
        "c += h\n",
        "d2 = a*b+c\n",
        "print ('d1',d1)\n",
        "print ('d2',d2)\n",
        "print('slope', (d2-d1)/h)"
      ],
      "metadata": {
        "colab": {
          "base_uri": "https://localhost:8080/"
        },
        "id": "6mGsWd4uFjOT",
        "outputId": "9697d6ef-0b76-429f-b51c-889fd6720f53"
      },
      "execution_count": null,
      "outputs": [
        {
          "output_type": "stream",
          "name": "stdout",
          "text": [
            "d1 4.0\n",
            "d2 4.0001\n",
            "slope 0.9999999999976694\n"
          ]
        }
      ]
    },
    {
      "cell_type": "markdown",
      "source": [
        "# main value class"
      ],
      "metadata": {
        "id": "5pGTitaq7HQ-"
      }
    },
    {
      "cell_type": "code",
      "source": [
        "class value:\n",
        "\n",
        "  def __init__(self, data, _children = (), _op = '', label = ''):\n",
        "    self.data = data\n",
        "    self.grad = 0\n",
        "    self._backward = lambda: None            #bakcpropegation function\n",
        "    self._prev = set(_children)\n",
        "    self._op = _op\n",
        "    self.label = label\n",
        "\n",
        "  def __repr__(self):\n",
        "    return f\"value(data={self.data})\"\n",
        "\n",
        "  def __add__(self, other):\n",
        "    out = value(self.data + other.data, (self, other), '+')\n",
        "\n",
        "    def _backward():\n",
        "      self.grad += 1.0 * out.grad\n",
        "      other.grad += 1.0 * out.grad\n",
        "\n",
        "    out._backward = _backward\n",
        "    return out\n",
        "\n",
        "  def __mul__(self, other):\n",
        "    out = value(self.data * other.data, (self, other), '*')\n",
        "\n",
        "    def _backward():\n",
        "      self.grad += other.data * out.grad\n",
        "      other.grad += self.data * out.grad\n",
        "\n",
        "    out._backward = _backward\n",
        "    return out\n",
        "\n",
        "  def tanh(self):                                 #activation function\n",
        "    x = self.data\n",
        "    t = (math.exp(2*x) - 1)/(math.exp(2*x) + 1)\n",
        "    out = value(t, (self, ), 'tanh')\n",
        "\n",
        "    def _backward():\n",
        "      self.grad += (1 - t**2) * out.grad\n",
        "\n",
        "    out._backward = _backward\n",
        "    return out\n",
        "\n",
        "  def backward(self):      #creating a master backward function so that u don't have to call bw for each node\n",
        "\n",
        "    topo = []\n",
        "    visited = set()\n",
        "    def build_topo(v):\n",
        "        if v not in visited:\n",
        "            visited.add(v)\n",
        "            for child in v._prev:\n",
        "                build_topo(child)\n",
        "            topo.append(v)\n",
        "    build_topo(self)\n",
        "\n",
        "    self.grad = 1.0\n",
        "    for node in reversed(topo):\n",
        "      node._backward()"
      ],
      "metadata": {
        "id": "SPWxN4h4CKbZ"
      },
      "execution_count": 156,
      "outputs": []
    },
    {
      "cell_type": "markdown",
      "source": [
        "# showing basic multiplication addition and gradient"
      ],
      "metadata": {
        "id": "k_IE7b1M60HI"
      }
    },
    {
      "cell_type": "code",
      "source": [
        "a = value(2.0, label= 'a')\n",
        "b = value(-3.0, label= 'b')\n",
        "c = value(10.0, label= 'c')\n",
        "e = a*b; e.label = 'e'\n",
        "d = e + c; d.label = 'd'\n",
        "f = value(-2.0, label= 'f')\n",
        "l = d * f; l.label = 'l'\n",
        "l"
      ],
      "metadata": {
        "colab": {
          "base_uri": "https://localhost:8080/"
        },
        "id": "UMBQX9odnj_L",
        "outputId": "7617d84e-0360-44cd-a642-e5ab66dec887"
      },
      "execution_count": 45,
      "outputs": [
        {
          "output_type": "execute_result",
          "data": {
            "text/plain": [
              "value(data=-8.0)"
            ]
          },
          "metadata": {},
          "execution_count": 45
        }
      ]
    },
    {
      "cell_type": "code",
      "source": [
        "from graphviz import Digraph\n",
        "\n",
        "def trace(root):\n",
        "    nodes, edges = set(), set()\n",
        "    def build(v):\n",
        "        if v not in nodes:\n",
        "            nodes.add(v)\n",
        "            for child in v._prev:\n",
        "                edges.add((child, v))\n",
        "                build(child)\n",
        "    build(root)\n",
        "    return nodes, edges\n",
        "\n",
        "def draw_dot(root):\n",
        "  dot = Digraph(format='svg', graph_attr={'rankdir': 'LR'}) # LR = left to right\n",
        "\n",
        "  nodes, edges = trace(root)\n",
        "  for n in nodes:\n",
        "    uid = str(id(n))\n",
        "    # for any value in the graph, create a rectangular ('record') node for it\n",
        "    dot.node(name = uid, label = \"{ %s | data %.4f | grad %.4f}\" % (n.label, n.data, n.grad), shape='record')\n",
        "    if n._op:\n",
        "      # if this value is a result of some operation, create an op node for it\n",
        "      dot.node(name = uid + n._op, label = n._op)\n",
        "      # and connect this node to it\n",
        "      dot.edge(uid + n._op, uid)\n",
        "\n",
        "  for n1, n2 in edges:\n",
        "    # connect n1 to the op node of n2\n",
        "    dot.edge(str(id(n1)), str(id(n2)) + n2._op)\n",
        "\n",
        "  return dot"
      ],
      "metadata": {
        "id": "LjVaGzcFqkhe"
      },
      "execution_count": 43,
      "outputs": []
    },
    {
      "cell_type": "code",
      "source": [
        "draw_dot(l)"
      ],
      "metadata": {
        "colab": {
          "base_uri": "https://localhost:8080/",
          "height": 250
        },
        "id": "FEJsJm1CwcPQ",
        "outputId": "03eafc74-c729-4efe-8428-faff1c74c303"
      },
      "execution_count": 54,
      "outputs": [
        {
          "output_type": "execute_result",
          "data": {
            "image/svg+xml": "<?xml version=\"1.0\" encoding=\"UTF-8\" standalone=\"no\"?>\n<!DOCTYPE svg PUBLIC \"-//W3C//DTD SVG 1.1//EN\"\n \"http://www.w3.org/Graphics/SVG/1.1/DTD/svg11.dtd\">\n<!-- Generated by graphviz version 2.43.0 (0)\n -->\n<!-- Title: %3 Pages: 1 -->\n<svg width=\"1144pt\" height=\"156pt\"\n viewBox=\"0.00 0.00 1144.00 156.00\" xmlns=\"http://www.w3.org/2000/svg\" xmlns:xlink=\"http://www.w3.org/1999/xlink\">\n<g id=\"graph0\" class=\"graph\" transform=\"scale(1 1) rotate(0) translate(4 152)\">\n<title>%3</title>\n<polygon fill=\"white\" stroke=\"transparent\" points=\"-4,4 -4,-152 1140,-152 1140,4 -4,4\"/>\n<!-- 132098997790256 -->\n<g id=\"node1\" class=\"node\">\n<title>132098997790256</title>\n<polygon fill=\"none\" stroke=\"black\" points=\"4.5,-111.5 4.5,-147.5 189.5,-147.5 189.5,-111.5 4.5,-111.5\"/>\n<text text-anchor=\"middle\" x=\"16\" y=\"-125.8\" font-family=\"Times,serif\" font-size=\"14.00\">a</text>\n<polyline fill=\"none\" stroke=\"black\" points=\"27.5,-111.5 27.5,-147.5 \"/>\n<text text-anchor=\"middle\" x=\"67.5\" y=\"-125.8\" font-family=\"Times,serif\" font-size=\"14.00\">data 2.0600</text>\n<polyline fill=\"none\" stroke=\"black\" points=\"107.5,-111.5 107.5,-147.5 \"/>\n<text text-anchor=\"middle\" x=\"148.5\" y=\"-125.8\" font-family=\"Times,serif\" font-size=\"14.00\">grad 6.0000</text>\n</g>\n<!-- 132099001071424* -->\n<g id=\"node9\" class=\"node\">\n<title>132099001071424*</title>\n<ellipse fill=\"none\" stroke=\"black\" cx=\"257\" cy=\"-101.5\" rx=\"27\" ry=\"18\"/>\n<text text-anchor=\"middle\" x=\"257\" y=\"-97.8\" font-family=\"Times,serif\" font-size=\"14.00\">*</text>\n</g>\n<!-- 132098997790256&#45;&gt;132099001071424* -->\n<g id=\"edge8\" class=\"edge\">\n<title>132098997790256&#45;&gt;132099001071424*</title>\n<path fill=\"none\" stroke=\"black\" d=\"M189.91,-113.21C200.76,-111.29 211.28,-109.43 220.61,-107.77\"/>\n<polygon fill=\"black\" stroke=\"black\" points=\"221.37,-111.19 230.6,-106 220.15,-104.3 221.37,-111.19\"/>\n</g>\n<!-- 132099018758224 -->\n<g id=\"node2\" class=\"node\">\n<title>132099018758224</title>\n<polygon fill=\"none\" stroke=\"black\" points=\"635,-0.5 635,-36.5 823,-36.5 823,-0.5 635,-0.5\"/>\n<text text-anchor=\"middle\" x=\"645.5\" y=\"-14.8\" font-family=\"Times,serif\" font-size=\"14.00\">f</text>\n<polyline fill=\"none\" stroke=\"black\" points=\"656,-0.5 656,-36.5 \"/>\n<text text-anchor=\"middle\" x=\"698.5\" y=\"-14.8\" font-family=\"Times,serif\" font-size=\"14.00\">data &#45;1.9600</text>\n<polyline fill=\"none\" stroke=\"black\" points=\"741,-0.5 741,-36.5 \"/>\n<text text-anchor=\"middle\" x=\"782\" y=\"-14.8\" font-family=\"Times,serif\" font-size=\"14.00\">grad 4.0000</text>\n</g>\n<!-- 132098997789920* -->\n<g id=\"node4\" class=\"node\">\n<title>132098997789920*</title>\n<ellipse fill=\"none\" stroke=\"black\" cx=\"886\" cy=\"-45.5\" rx=\"27\" ry=\"18\"/>\n<text text-anchor=\"middle\" x=\"886\" y=\"-41.8\" font-family=\"Times,serif\" font-size=\"14.00\">*</text>\n</g>\n<!-- 132099018758224&#45;&gt;132098997789920* -->\n<g id=\"edge5\" class=\"edge\">\n<title>132099018758224&#45;&gt;132098997789920*</title>\n<path fill=\"none\" stroke=\"black\" d=\"M823.29,-34.75C832.57,-36.37 841.52,-37.93 849.61,-39.33\"/>\n<polygon fill=\"black\" stroke=\"black\" points=\"849.22,-42.82 859.68,-41.09 850.42,-35.92 849.22,-42.82\"/>\n</g>\n<!-- 132098997789920 -->\n<g id=\"node3\" class=\"node\">\n<title>132098997789920</title>\n<polygon fill=\"none\" stroke=\"black\" points=\"949,-27.5 949,-63.5 1136,-63.5 1136,-27.5 949,-27.5\"/>\n<text text-anchor=\"middle\" x=\"959\" y=\"-41.8\" font-family=\"Times,serif\" font-size=\"14.00\"> </text>\n<polyline fill=\"none\" stroke=\"black\" points=\"969,-27.5 969,-63.5 \"/>\n<text text-anchor=\"middle\" x=\"1011.5\" y=\"-41.8\" font-family=\"Times,serif\" font-size=\"14.00\">data &#45;7.2865</text>\n<polyline fill=\"none\" stroke=\"black\" points=\"1054,-27.5 1054,-63.5 \"/>\n<text text-anchor=\"middle\" x=\"1095\" y=\"-41.8\" font-family=\"Times,serif\" font-size=\"14.00\">grad 0.0000</text>\n</g>\n<!-- 132098997789920*&#45;&gt;132098997789920 -->\n<g id=\"edge1\" class=\"edge\">\n<title>132098997789920*&#45;&gt;132098997789920</title>\n<path fill=\"none\" stroke=\"black\" d=\"M913.21,-45.5C920.73,-45.5 929.43,-45.5 938.67,-45.5\"/>\n<polygon fill=\"black\" stroke=\"black\" points=\"938.89,-49 948.89,-45.5 938.89,-42 938.89,-49\"/>\n</g>\n<!-- 132098997796112 -->\n<g id=\"node5\" class=\"node\">\n<title>132098997796112</title>\n<polygon fill=\"none\" stroke=\"black\" points=\"638,-55.5 638,-91.5 820,-91.5 820,-55.5 638,-55.5\"/>\n<text text-anchor=\"middle\" x=\"648\" y=\"-69.8\" font-family=\"Times,serif\" font-size=\"14.00\"> </text>\n<polyline fill=\"none\" stroke=\"black\" points=\"658,-55.5 658,-91.5 \"/>\n<text text-anchor=\"middle\" x=\"698\" y=\"-69.8\" font-family=\"Times,serif\" font-size=\"14.00\">data 3.7176</text>\n<polyline fill=\"none\" stroke=\"black\" points=\"738,-55.5 738,-91.5 \"/>\n<text text-anchor=\"middle\" x=\"779\" y=\"-69.8\" font-family=\"Times,serif\" font-size=\"14.00\">grad 0.0000</text>\n</g>\n<!-- 132098997796112&#45;&gt;132098997789920* -->\n<g id=\"edge9\" class=\"edge\">\n<title>132098997796112&#45;&gt;132098997789920*</title>\n<path fill=\"none\" stroke=\"black\" d=\"M820.16,-57.21C830.6,-55.33 840.72,-53.5 849.74,-51.87\"/>\n<polygon fill=\"black\" stroke=\"black\" points=\"850.56,-55.28 859.78,-50.06 849.32,-48.39 850.56,-55.28\"/>\n</g>\n<!-- 132098997796112+ -->\n<g id=\"node6\" class=\"node\">\n<title>132098997796112+</title>\n<ellipse fill=\"none\" stroke=\"black\" cx=\"572\" cy=\"-73.5\" rx=\"27\" ry=\"18\"/>\n<text text-anchor=\"middle\" x=\"572\" y=\"-69.8\" font-family=\"Times,serif\" font-size=\"14.00\">+</text>\n</g>\n<!-- 132098997796112+&#45;&gt;132098997796112 -->\n<g id=\"edge2\" class=\"edge\">\n<title>132098997796112+&#45;&gt;132098997796112</title>\n<path fill=\"none\" stroke=\"black\" d=\"M599.29,-73.5C607.61,-73.5 617.34,-73.5 627.67,-73.5\"/>\n<polygon fill=\"black\" stroke=\"black\" points=\"627.73,-77 637.73,-73.5 627.73,-70 627.73,-77\"/>\n</g>\n<!-- 132098997791024 -->\n<g id=\"node7\" class=\"node\">\n<title>132098997791024</title>\n<polygon fill=\"none\" stroke=\"black\" points=\"320,-28.5 320,-64.5 509,-64.5 509,-28.5 320,-28.5\"/>\n<text text-anchor=\"middle\" x=\"331.5\" y=\"-42.8\" font-family=\"Times,serif\" font-size=\"14.00\">c</text>\n<polyline fill=\"none\" stroke=\"black\" points=\"343,-28.5 343,-64.5 \"/>\n<text text-anchor=\"middle\" x=\"383\" y=\"-42.8\" font-family=\"Times,serif\" font-size=\"14.00\">data 9.9800</text>\n<polyline fill=\"none\" stroke=\"black\" points=\"423,-28.5 423,-64.5 \"/>\n<text text-anchor=\"middle\" x=\"466\" y=\"-42.8\" font-family=\"Times,serif\" font-size=\"14.00\">grad &#45;2.0000</text>\n</g>\n<!-- 132098997791024&#45;&gt;132098997796112+ -->\n<g id=\"edge7\" class=\"edge\">\n<title>132098997791024&#45;&gt;132098997796112+</title>\n<path fill=\"none\" stroke=\"black\" d=\"M509.1,-62.75C518.4,-64.37 527.38,-65.93 535.49,-67.33\"/>\n<polygon fill=\"black\" stroke=\"black\" points=\"535.14,-70.83 545.59,-69.09 536.34,-63.93 535.14,-70.83\"/>\n</g>\n<!-- 132099001071424 -->\n<g id=\"node8\" class=\"node\">\n<title>132099001071424</title>\n<polygon fill=\"none\" stroke=\"black\" points=\"321,-83.5 321,-119.5 508,-119.5 508,-83.5 321,-83.5\"/>\n<text text-anchor=\"middle\" x=\"331\" y=\"-97.8\" font-family=\"Times,serif\" font-size=\"14.00\"> </text>\n<polyline fill=\"none\" stroke=\"black\" points=\"341,-83.5 341,-119.5 \"/>\n<text text-anchor=\"middle\" x=\"383.5\" y=\"-97.8\" font-family=\"Times,serif\" font-size=\"14.00\">data &#45;6.2624</text>\n<polyline fill=\"none\" stroke=\"black\" points=\"426,-83.5 426,-119.5 \"/>\n<text text-anchor=\"middle\" x=\"467\" y=\"-97.8\" font-family=\"Times,serif\" font-size=\"14.00\">grad 0.0000</text>\n</g>\n<!-- 132099001071424&#45;&gt;132098997796112+ -->\n<g id=\"edge6\" class=\"edge\">\n<title>132099001071424&#45;&gt;132098997796112+</title>\n<path fill=\"none\" stroke=\"black\" d=\"M508.2,-84.81C517.9,-83.06 527.27,-81.37 535.68,-79.86\"/>\n<polygon fill=\"black\" stroke=\"black\" points=\"536.57,-83.26 545.79,-78.04 535.32,-76.37 536.57,-83.26\"/>\n</g>\n<!-- 132099001071424*&#45;&gt;132099001071424 -->\n<g id=\"edge3\" class=\"edge\">\n<title>132099001071424*&#45;&gt;132099001071424</title>\n<path fill=\"none\" stroke=\"black\" d=\"M284.03,-101.5C291.86,-101.5 300.96,-101.5 310.66,-101.5\"/>\n<polygon fill=\"black\" stroke=\"black\" points=\"310.94,-105 320.94,-101.5 310.94,-98 310.94,-105\"/>\n</g>\n<!-- 132098997791072 -->\n<g id=\"node10\" class=\"node\">\n<title>132098997791072</title>\n<polygon fill=\"none\" stroke=\"black\" points=\"0,-56.5 0,-92.5 194,-92.5 194,-56.5 0,-56.5\"/>\n<text text-anchor=\"middle\" x=\"11.5\" y=\"-70.8\" font-family=\"Times,serif\" font-size=\"14.00\">b</text>\n<polyline fill=\"none\" stroke=\"black\" points=\"23,-56.5 23,-92.5 \"/>\n<text text-anchor=\"middle\" x=\"65.5\" y=\"-70.8\" font-family=\"Times,serif\" font-size=\"14.00\">data &#45;3.0400</text>\n<polyline fill=\"none\" stroke=\"black\" points=\"108,-56.5 108,-92.5 \"/>\n<text text-anchor=\"middle\" x=\"151\" y=\"-70.8\" font-family=\"Times,serif\" font-size=\"14.00\">grad &#45;4.0000</text>\n</g>\n<!-- 132098997791072&#45;&gt;132099001071424* -->\n<g id=\"edge4\" class=\"edge\">\n<title>132098997791072&#45;&gt;132099001071424*</title>\n<path fill=\"none\" stroke=\"black\" d=\"M194.01,-90.91C203.35,-92.5 212.37,-94.04 220.49,-95.43\"/>\n<polygon fill=\"black\" stroke=\"black\" points=\"220.16,-98.93 230.6,-97.16 221.34,-92.03 220.16,-98.93\"/>\n</g>\n</g>\n</svg>\n",
            "text/plain": [
              "<graphviz.graphs.Digraph at 0x7824b1d689e0>"
            ]
          },
          "metadata": {},
          "execution_count": 54
        }
      ]
    },
    {
      "cell_type": "markdown",
      "source": [
        "# Adding gradients\n",
        "\n",
        "adding gradient to each of the nodes. basically doing backpropegation manually. means finding derivatioves of each of the node values with respect to \"l\". dl/dl, dl/dd, dl/df etc."
      ],
      "metadata": {
        "id": "mXIpSZh7Jaoy"
      }
    },
    {
      "cell_type": "code",
      "source": [
        "### showing how derivatives/backpropegation works numerically/manually\n",
        "\n",
        "def lol():\n",
        "\n",
        "  h = 0.001\n",
        "\n",
        "  a = value(2.0, label= 'a')\n",
        "  b = value(-3.0, label= 'b')\n",
        "  c = value(10.0, label= 'c')\n",
        "  e = a*b; e.label = 'e'\n",
        "  d = e + c; d.label = 'd'\n",
        "  f = value(-2.0, label= 'f')\n",
        "  l = d * f; l.label = 'l'\n",
        "  l1 = l.data\n",
        "\n",
        "  a = value(2.0, label= 'a')\n",
        "  b = value(-3.0, label= 'b')\n",
        "  c = value(10.0, label= 'c')\n",
        "  e = a*b; e.label = 'e'\n",
        "  d = e + c; d.label = 'd'\n",
        "  # d.data += h\n",
        "  f = value(-2.0, label= 'f')\n",
        "  # f.data += h\n",
        "  l = d * f; l.label = 'l'\n",
        "  l2 = l.data+h\n",
        "\n",
        "  print((l2-l1)/h)\n",
        "\n",
        "lol()"
      ],
      "metadata": {
        "colab": {
          "base_uri": "https://localhost:8080/"
        },
        "id": "cVlPDosvHup_",
        "outputId": "20617980-4c4e-4696-f6b9-9b8033b75409"
      },
      "execution_count": 47,
      "outputs": [
        {
          "output_type": "stream",
          "name": "stdout",
          "text": [
            "1.000000000000334\n"
          ]
        }
      ]
    },
    {
      "cell_type": "code",
      "source": [
        "f.grad = 4.0    # dl/df = d\n",
        "d.grad = -2.0   # dl/dd = f\n",
        "l.grad = 1.0    # dl/dl = 1"
      ],
      "metadata": {
        "id": "pQmRFZklN8l5"
      },
      "execution_count": 48,
      "outputs": []
    },
    {
      "cell_type": "code",
      "source": [
        "# dl/dc = f(gradient of d or leaf of c)\n",
        "e.grad = -2.0\n",
        "c.grad = -2.0"
      ],
      "metadata": {
        "id": "27b1SIENOciM"
      },
      "execution_count": 49,
      "outputs": []
    },
    {
      "cell_type": "markdown",
      "source": [
        "from the graph we see, 'plus' basically distributes the gradient of it's parent nodes eually to the leaf node. (assuming graph goes right to left)"
      ],
      "metadata": {
        "id": "LqnCivMSSVVT"
      }
    },
    {
      "cell_type": "code",
      "source": [
        "# dl/da = bf\n",
        "# dl/db = af\n",
        "a.grad = 6.0\n",
        "b.grad = -4"
      ],
      "metadata": {
        "id": "oqd-64HTR-2w"
      },
      "execution_count": 50,
      "outputs": []
    },
    {
      "cell_type": "code",
      "source": [
        "# now changing a,b,c to change l.\n",
        "# to increase l, we need to increase it's leaf nodes to the direction of their gradient.\n",
        "# basically a+h*a.grad something like that.\n",
        "\n",
        "a.data += 0.01 * a.grad\n",
        "b.data += 0.01 * b.grad\n",
        "c.data += 0.01 * c.grad\n",
        "f.data += 0.01 * f.grad\n",
        "\n",
        "e = a * b\n",
        "d = e + c\n",
        "l = d * f\n",
        "\n",
        "print (l.data)"
      ],
      "metadata": {
        "colab": {
          "base_uri": "https://localhost:8080/"
        },
        "id": "BvEalSEcVd2m",
        "outputId": "e59951c7-06fa-42b0-8a16-41cdc37c26a8"
      },
      "execution_count": 52,
      "outputs": [
        {
          "output_type": "stream",
          "name": "stdout",
          "text": [
            "-7.286496\n"
          ]
        }
      ]
    },
    {
      "cell_type": "markdown",
      "source": [
        "# A Two layer MLP\n",
        "most basic example of what happens in a node of a NN"
      ],
      "metadata": {
        "id": "0-ii-S4wc-gZ"
      }
    },
    {
      "cell_type": "code",
      "source": [
        "# creating a single node of a neural net that takes two input\n",
        "\n",
        "# input x1, x2\n",
        "x1 = value(2.0, label = 'x1')\n",
        "x2 = value(0.0, label = 'x2')\n",
        "# weights\n",
        "w1 = value(-3.0, label = 'w1')\n",
        "w2 = value(1.0, label = 'w2')\n",
        "# bias of the neuron\n",
        "b = value(6.8813735870195432, label = 'b')\n",
        "\n",
        "x1w1 = x1*w1; x1w1.label = 'x1w1'\n",
        "x2w2 = x2*w2; x2w2.label = 'x2w2'\n",
        "x1w1x2w2 = x1w1 + x2w2; x1w1x2w2.label = 'x1w1 + x2w2'\n",
        "n = x1w1x2w2 + b; n.label = 'n'\n",
        "o = n.tanh() ; o.label = 'o'"
      ],
      "metadata": {
        "id": "q8KKfKW-dRN-"
      },
      "execution_count": 152,
      "outputs": []
    },
    {
      "cell_type": "code",
      "source": [
        "draw_dot(o)"
      ],
      "metadata": {
        "colab": {
          "base_uri": "https://localhost:8080/",
          "height": 322
        },
        "id": "18R_y7JEqy0J",
        "outputId": "c2976b86-85c4-48fb-ad7a-b4351c0ce61b"
      },
      "execution_count": 155,
      "outputs": [
        {
          "output_type": "execute_result",
          "data": {
            "image/svg+xml": "<?xml version=\"1.0\" encoding=\"UTF-8\" standalone=\"no\"?>\n<!DOCTYPE svg PUBLIC \"-//W3C//DTD SVG 1.1//EN\"\n \"http://www.w3.org/Graphics/SVG/1.1/DTD/svg11.dtd\">\n<!-- Generated by graphviz version 2.43.0 (0)\n -->\n<!-- Title: %3 Pages: 1 -->\n<svg width=\"1555pt\" height=\"210pt\"\n viewBox=\"0.00 0.00 1555.00 210.00\" xmlns=\"http://www.w3.org/2000/svg\" xmlns:xlink=\"http://www.w3.org/1999/xlink\">\n<g id=\"graph0\" class=\"graph\" transform=\"scale(1 1) rotate(0) translate(4 206)\">\n<title>%3</title>\n<polygon fill=\"white\" stroke=\"transparent\" points=\"-4,4 -4,-206 1551,-206 1551,4 -4,4\"/>\n<!-- 132098996539984 -->\n<g id=\"node1\" class=\"node\">\n<title>132098996539984</title>\n<polygon fill=\"none\" stroke=\"black\" points=\"1362,-54.5 1362,-90.5 1547,-90.5 1547,-54.5 1362,-54.5\"/>\n<text text-anchor=\"middle\" x=\"1373.5\" y=\"-68.8\" font-family=\"Times,serif\" font-size=\"14.00\">o</text>\n<polyline fill=\"none\" stroke=\"black\" points=\"1385,-54.5 1385,-90.5 \"/>\n<text text-anchor=\"middle\" x=\"1425\" y=\"-68.8\" font-family=\"Times,serif\" font-size=\"14.00\">data 0.7071</text>\n<polyline fill=\"none\" stroke=\"black\" points=\"1465,-54.5 1465,-90.5 \"/>\n<text text-anchor=\"middle\" x=\"1506\" y=\"-68.8\" font-family=\"Times,serif\" font-size=\"14.00\">grad 1.0000</text>\n</g>\n<!-- 132098996539984tanh -->\n<g id=\"node2\" class=\"node\">\n<title>132098996539984tanh</title>\n<ellipse fill=\"none\" stroke=\"black\" cx=\"1299\" cy=\"-72.5\" rx=\"27\" ry=\"18\"/>\n<text text-anchor=\"middle\" x=\"1299\" y=\"-68.8\" font-family=\"Times,serif\" font-size=\"14.00\">tanh</text>\n</g>\n<!-- 132098996539984tanh&#45;&gt;132098996539984 -->\n<g id=\"edge1\" class=\"edge\">\n<title>132098996539984tanh&#45;&gt;132098996539984</title>\n<path fill=\"none\" stroke=\"black\" d=\"M1326.04,-72.5C1333.58,-72.5 1342.3,-72.5 1351.57,-72.5\"/>\n<polygon fill=\"black\" stroke=\"black\" points=\"1351.81,-76 1361.81,-72.5 1351.81,-69 1351.81,-76\"/>\n</g>\n<!-- 132098996537440 -->\n<g id=\"node3\" class=\"node\">\n<title>132098996537440</title>\n<polygon fill=\"none\" stroke=\"black\" points=\"666,-82.5 666,-118.5 925,-118.5 925,-82.5 666,-82.5\"/>\n<text text-anchor=\"middle\" x=\"712\" y=\"-96.8\" font-family=\"Times,serif\" font-size=\"14.00\">x1w1 + x2w2</text>\n<polyline fill=\"none\" stroke=\"black\" points=\"758,-82.5 758,-118.5 \"/>\n<text text-anchor=\"middle\" x=\"800.5\" y=\"-96.8\" font-family=\"Times,serif\" font-size=\"14.00\">data &#45;6.0000</text>\n<polyline fill=\"none\" stroke=\"black\" points=\"843,-82.5 843,-118.5 \"/>\n<text text-anchor=\"middle\" x=\"884\" y=\"-96.8\" font-family=\"Times,serif\" font-size=\"14.00\">grad 0.5000</text>\n</g>\n<!-- 132098996536000+ -->\n<g id=\"node8\" class=\"node\">\n<title>132098996536000+</title>\n<ellipse fill=\"none\" stroke=\"black\" cx=\"988\" cy=\"-72.5\" rx=\"27\" ry=\"18\"/>\n<text text-anchor=\"middle\" x=\"988\" y=\"-68.8\" font-family=\"Times,serif\" font-size=\"14.00\">+</text>\n</g>\n<!-- 132098996537440&#45;&gt;132098996536000+ -->\n<g id=\"edge7\" class=\"edge\">\n<title>132098996537440&#45;&gt;132098996536000+</title>\n<path fill=\"none\" stroke=\"black\" d=\"M919.03,-82.49C930.7,-80.77 941.77,-79.15 951.46,-77.72\"/>\n<polygon fill=\"black\" stroke=\"black\" points=\"952.01,-81.18 961.4,-76.26 951,-74.25 952.01,-81.18\"/>\n</g>\n<!-- 132098996537440+ -->\n<g id=\"node4\" class=\"node\">\n<title>132098996537440+</title>\n<ellipse fill=\"none\" stroke=\"black\" cx=\"603\" cy=\"-100.5\" rx=\"27\" ry=\"18\"/>\n<text text-anchor=\"middle\" x=\"603\" y=\"-96.8\" font-family=\"Times,serif\" font-size=\"14.00\">+</text>\n</g>\n<!-- 132098996537440+&#45;&gt;132098996537440 -->\n<g id=\"edge2\" class=\"edge\">\n<title>132098996537440+&#45;&gt;132098996537440</title>\n<path fill=\"none\" stroke=\"black\" d=\"M630.09,-100.5C637.58,-100.5 646.3,-100.5 655.75,-100.5\"/>\n<polygon fill=\"black\" stroke=\"black\" points=\"655.84,-104 665.84,-100.5 655.84,-97 655.84,-104\"/>\n</g>\n<!-- 132098996541040 -->\n<g id=\"node5\" class=\"node\">\n<title>132098996541040</title>\n<polygon fill=\"none\" stroke=\"black\" points=\"2.5,-165.5 2.5,-201.5 197.5,-201.5 197.5,-165.5 2.5,-165.5\"/>\n<text text-anchor=\"middle\" x=\"19\" y=\"-179.8\" font-family=\"Times,serif\" font-size=\"14.00\">w2</text>\n<polyline fill=\"none\" stroke=\"black\" points=\"35.5,-165.5 35.5,-201.5 \"/>\n<text text-anchor=\"middle\" x=\"75.5\" y=\"-179.8\" font-family=\"Times,serif\" font-size=\"14.00\">data 1.0000</text>\n<polyline fill=\"none\" stroke=\"black\" points=\"115.5,-165.5 115.5,-201.5 \"/>\n<text text-anchor=\"middle\" x=\"156.5\" y=\"-179.8\" font-family=\"Times,serif\" font-size=\"14.00\">grad 0.0000</text>\n</g>\n<!-- 132098996543680* -->\n<g id=\"node10\" class=\"node\">\n<title>132098996543680*</title>\n<ellipse fill=\"none\" stroke=\"black\" cx=\"263\" cy=\"-128.5\" rx=\"27\" ry=\"18\"/>\n<text text-anchor=\"middle\" x=\"263\" y=\"-124.8\" font-family=\"Times,serif\" font-size=\"14.00\">*</text>\n</g>\n<!-- 132098996541040&#45;&gt;132098996543680* -->\n<g id=\"edge13\" class=\"edge\">\n<title>132098996541040&#45;&gt;132098996543680*</title>\n<path fill=\"none\" stroke=\"black\" d=\"M172.53,-165.44C181.84,-162.67 191.2,-159.67 200,-156.5 210.53,-152.71 221.75,-147.9 231.72,-143.33\"/>\n<polygon fill=\"black\" stroke=\"black\" points=\"233.25,-146.48 240.82,-139.07 230.28,-140.14 233.25,-146.48\"/>\n</g>\n<!-- 132098996539024 -->\n<g id=\"node6\" class=\"node\">\n<title>132098996539024</title>\n<polygon fill=\"none\" stroke=\"black\" points=\"4,-110.5 4,-146.5 196,-146.5 196,-110.5 4,-110.5\"/>\n<text text-anchor=\"middle\" x=\"19\" y=\"-124.8\" font-family=\"Times,serif\" font-size=\"14.00\">x2</text>\n<polyline fill=\"none\" stroke=\"black\" points=\"34,-110.5 34,-146.5 \"/>\n<text text-anchor=\"middle\" x=\"74\" y=\"-124.8\" font-family=\"Times,serif\" font-size=\"14.00\">data 0.0000</text>\n<polyline fill=\"none\" stroke=\"black\" points=\"114,-110.5 114,-146.5 \"/>\n<text text-anchor=\"middle\" x=\"155\" y=\"-124.8\" font-family=\"Times,serif\" font-size=\"14.00\">grad 0.5000</text>\n</g>\n<!-- 132098996539024&#45;&gt;132098996543680* -->\n<g id=\"edge11\" class=\"edge\">\n<title>132098996539024&#45;&gt;132098996543680*</title>\n<path fill=\"none\" stroke=\"black\" d=\"M196.05,-128.5C206.52,-128.5 216.65,-128.5 225.71,-128.5\"/>\n<polygon fill=\"black\" stroke=\"black\" points=\"225.79,-132 235.79,-128.5 225.79,-125 225.79,-132\"/>\n</g>\n<!-- 132098996536000 -->\n<g id=\"node7\" class=\"node\">\n<title>132098996536000</title>\n<polygon fill=\"none\" stroke=\"black\" points=\"1051,-54.5 1051,-90.5 1236,-90.5 1236,-54.5 1051,-54.5\"/>\n<text text-anchor=\"middle\" x=\"1062.5\" y=\"-68.8\" font-family=\"Times,serif\" font-size=\"14.00\">n</text>\n<polyline fill=\"none\" stroke=\"black\" points=\"1074,-54.5 1074,-90.5 \"/>\n<text text-anchor=\"middle\" x=\"1114\" y=\"-68.8\" font-family=\"Times,serif\" font-size=\"14.00\">data 0.8814</text>\n<polyline fill=\"none\" stroke=\"black\" points=\"1154,-54.5 1154,-90.5 \"/>\n<text text-anchor=\"middle\" x=\"1195\" y=\"-68.8\" font-family=\"Times,serif\" font-size=\"14.00\">grad 0.5000</text>\n</g>\n<!-- 132098996536000&#45;&gt;132098996539984tanh -->\n<g id=\"edge12\" class=\"edge\">\n<title>132098996536000&#45;&gt;132098996539984tanh</title>\n<path fill=\"none\" stroke=\"black\" d=\"M1236.01,-72.5C1245.01,-72.5 1253.74,-72.5 1261.66,-72.5\"/>\n<polygon fill=\"black\" stroke=\"black\" points=\"1261.91,-76 1271.91,-72.5 1261.91,-69 1261.91,-76\"/>\n</g>\n<!-- 132098996536000+&#45;&gt;132098996536000 -->\n<g id=\"edge3\" class=\"edge\">\n<title>132098996536000+&#45;&gt;132098996536000</title>\n<path fill=\"none\" stroke=\"black\" d=\"M1015.04,-72.5C1022.58,-72.5 1031.3,-72.5 1040.57,-72.5\"/>\n<polygon fill=\"black\" stroke=\"black\" points=\"1040.81,-76 1050.81,-72.5 1040.81,-69 1040.81,-76\"/>\n</g>\n<!-- 132098996543680 -->\n<g id=\"node9\" class=\"node\">\n<title>132098996543680</title>\n<polygon fill=\"none\" stroke=\"black\" points=\"328.5,-110.5 328.5,-146.5 537.5,-146.5 537.5,-110.5 328.5,-110.5\"/>\n<text text-anchor=\"middle\" x=\"352\" y=\"-124.8\" font-family=\"Times,serif\" font-size=\"14.00\">x2w2</text>\n<polyline fill=\"none\" stroke=\"black\" points=\"375.5,-110.5 375.5,-146.5 \"/>\n<text text-anchor=\"middle\" x=\"415.5\" y=\"-124.8\" font-family=\"Times,serif\" font-size=\"14.00\">data 0.0000</text>\n<polyline fill=\"none\" stroke=\"black\" points=\"455.5,-110.5 455.5,-146.5 \"/>\n<text text-anchor=\"middle\" x=\"496.5\" y=\"-124.8\" font-family=\"Times,serif\" font-size=\"14.00\">grad 0.5000</text>\n</g>\n<!-- 132098996543680&#45;&gt;132098996537440+ -->\n<g id=\"edge8\" class=\"edge\">\n<title>132098996543680&#45;&gt;132098996537440+</title>\n<path fill=\"none\" stroke=\"black\" d=\"M537.53,-111.25C547.8,-109.53 557.66,-107.89 566.45,-106.43\"/>\n<polygon fill=\"black\" stroke=\"black\" points=\"567.3,-109.83 576.59,-104.74 566.15,-102.93 567.3,-109.83\"/>\n</g>\n<!-- 132098996543680*&#45;&gt;132098996543680 -->\n<g id=\"edge4\" class=\"edge\">\n<title>132098996543680*&#45;&gt;132098996543680</title>\n<path fill=\"none\" stroke=\"black\" d=\"M290.25,-128.5C298.43,-128.5 308.03,-128.5 318.31,-128.5\"/>\n<polygon fill=\"black\" stroke=\"black\" points=\"318.35,-132 328.35,-128.5 318.35,-125 318.35,-132\"/>\n</g>\n<!-- 132098996544832 -->\n<g id=\"node11\" class=\"node\">\n<title>132098996544832</title>\n<polygon fill=\"none\" stroke=\"black\" points=\"2,-55.5 2,-91.5 198,-91.5 198,-55.5 2,-55.5\"/>\n<text text-anchor=\"middle\" x=\"17\" y=\"-69.8\" font-family=\"Times,serif\" font-size=\"14.00\">x1</text>\n<polyline fill=\"none\" stroke=\"black\" points=\"32,-55.5 32,-91.5 \"/>\n<text text-anchor=\"middle\" x=\"72\" y=\"-69.8\" font-family=\"Times,serif\" font-size=\"14.00\">data 2.0000</text>\n<polyline fill=\"none\" stroke=\"black\" points=\"112,-55.5 112,-91.5 \"/>\n<text text-anchor=\"middle\" x=\"155\" y=\"-69.8\" font-family=\"Times,serif\" font-size=\"14.00\">grad &#45;1.5000</text>\n</g>\n<!-- 132098996538304* -->\n<g id=\"node15\" class=\"node\">\n<title>132098996538304*</title>\n<ellipse fill=\"none\" stroke=\"black\" cx=\"263\" cy=\"-73.5\" rx=\"27\" ry=\"18\"/>\n<text text-anchor=\"middle\" x=\"263\" y=\"-69.8\" font-family=\"Times,serif\" font-size=\"14.00\">*</text>\n</g>\n<!-- 132098996544832&#45;&gt;132098996538304* -->\n<g id=\"edge10\" class=\"edge\">\n<title>132098996544832&#45;&gt;132098996538304*</title>\n<path fill=\"none\" stroke=\"black\" d=\"M198.37,-73.5C208.05,-73.5 217.4,-73.5 225.8,-73.5\"/>\n<polygon fill=\"black\" stroke=\"black\" points=\"225.91,-77 235.91,-73.5 225.91,-70 225.91,-77\"/>\n</g>\n<!-- 132098996536144 -->\n<g id=\"node12\" class=\"node\">\n<title>132098996536144</title>\n<polygon fill=\"none\" stroke=\"black\" points=\"0,-0.5 0,-36.5 200,-36.5 200,-0.5 0,-0.5\"/>\n<text text-anchor=\"middle\" x=\"16.5\" y=\"-14.8\" font-family=\"Times,serif\" font-size=\"14.00\">w1</text>\n<polyline fill=\"none\" stroke=\"black\" points=\"33,-0.5 33,-36.5 \"/>\n<text text-anchor=\"middle\" x=\"75.5\" y=\"-14.8\" font-family=\"Times,serif\" font-size=\"14.00\">data &#45;3.0000</text>\n<polyline fill=\"none\" stroke=\"black\" points=\"118,-0.5 118,-36.5 \"/>\n<text text-anchor=\"middle\" x=\"159\" y=\"-14.8\" font-family=\"Times,serif\" font-size=\"14.00\">grad 1.0000</text>\n</g>\n<!-- 132098996536144&#45;&gt;132098996538304* -->\n<g id=\"edge9\" class=\"edge\">\n<title>132098996536144&#45;&gt;132098996538304*</title>\n<path fill=\"none\" stroke=\"black\" d=\"M172.53,-36.56C181.84,-39.33 191.2,-42.33 200,-45.5 210.53,-49.29 221.75,-54.1 231.72,-58.67\"/>\n<polygon fill=\"black\" stroke=\"black\" points=\"230.28,-61.86 240.82,-62.93 233.25,-55.52 230.28,-61.86\"/>\n</g>\n<!-- 132098996540848 -->\n<g id=\"node13\" class=\"node\">\n<title>132098996540848</title>\n<polygon fill=\"none\" stroke=\"black\" points=\"703,-27.5 703,-63.5 888,-63.5 888,-27.5 703,-27.5\"/>\n<text text-anchor=\"middle\" x=\"714.5\" y=\"-41.8\" font-family=\"Times,serif\" font-size=\"14.00\">b</text>\n<polyline fill=\"none\" stroke=\"black\" points=\"726,-27.5 726,-63.5 \"/>\n<text text-anchor=\"middle\" x=\"766\" y=\"-41.8\" font-family=\"Times,serif\" font-size=\"14.00\">data 6.8814</text>\n<polyline fill=\"none\" stroke=\"black\" points=\"806,-27.5 806,-63.5 \"/>\n<text text-anchor=\"middle\" x=\"847\" y=\"-41.8\" font-family=\"Times,serif\" font-size=\"14.00\">grad 0.5000</text>\n</g>\n<!-- 132098996540848&#45;&gt;132098996536000+ -->\n<g id=\"edge14\" class=\"edge\">\n<title>132098996540848&#45;&gt;132098996536000+</title>\n<path fill=\"none\" stroke=\"black\" d=\"M888.12,-58.49C910.59,-61.67 933.33,-64.89 951.33,-67.44\"/>\n<polygon fill=\"black\" stroke=\"black\" points=\"950.95,-70.93 961.34,-68.86 951.93,-63.99 950.95,-70.93\"/>\n</g>\n<!-- 132098996538304 -->\n<g id=\"node14\" class=\"node\">\n<title>132098996538304</title>\n<polygon fill=\"none\" stroke=\"black\" points=\"326,-55.5 326,-91.5 540,-91.5 540,-55.5 326,-55.5\"/>\n<text text-anchor=\"middle\" x=\"349.5\" y=\"-69.8\" font-family=\"Times,serif\" font-size=\"14.00\">x1w1</text>\n<polyline fill=\"none\" stroke=\"black\" points=\"373,-55.5 373,-91.5 \"/>\n<text text-anchor=\"middle\" x=\"415.5\" y=\"-69.8\" font-family=\"Times,serif\" font-size=\"14.00\">data &#45;6.0000</text>\n<polyline fill=\"none\" stroke=\"black\" points=\"458,-55.5 458,-91.5 \"/>\n<text text-anchor=\"middle\" x=\"499\" y=\"-69.8\" font-family=\"Times,serif\" font-size=\"14.00\">grad 0.5000</text>\n</g>\n<!-- 132098996538304&#45;&gt;132098996537440+ -->\n<g id=\"edge6\" class=\"edge\">\n<title>132098996538304&#45;&gt;132098996537440+</title>\n<path fill=\"none\" stroke=\"black\" d=\"M540.4,-90.6C549.72,-92.1 558.65,-93.53 566.68,-94.82\"/>\n<polygon fill=\"black\" stroke=\"black\" points=\"566.24,-98.3 576.66,-96.43 567.35,-91.39 566.24,-98.3\"/>\n</g>\n<!-- 132098996538304*&#45;&gt;132098996538304 -->\n<g id=\"edge5\" class=\"edge\">\n<title>132098996538304*&#45;&gt;132098996538304</title>\n<path fill=\"none\" stroke=\"black\" d=\"M290.25,-73.5C297.7,-73.5 306.34,-73.5 315.59,-73.5\"/>\n<polygon fill=\"black\" stroke=\"black\" points=\"315.84,-77 325.84,-73.5 315.84,-70 315.84,-77\"/>\n</g>\n</g>\n</svg>\n",
            "text/plain": [
              "<graphviz.graphs.Digraph at 0x7824b1c3a030>"
            ]
          },
          "metadata": {},
          "execution_count": 155
        }
      ]
    },
    {
      "cell_type": "markdown",
      "source": [
        "# manually calculating gradients for back propegaton"
      ],
      "metadata": {
        "id": "wrTRO-qqyVSN"
      }
    },
    {
      "cell_type": "code",
      "source": [
        "# o = tanh (n)\n",
        "# do/dn = 1 - o**2 (1 - tan squared h(n))\n",
        "# 1 - o.data**2 = 0.5\n",
        "\n",
        "n.grad = 0.5"
      ],
      "metadata": {
        "id": "Yrb975rzrEb8"
      },
      "execution_count": 71,
      "outputs": []
    },
    {
      "cell_type": "code",
      "source": [
        "o.grad = 1.0"
      ],
      "metadata": {
        "id": "-s82w_mjqfyU"
      },
      "execution_count": 72,
      "outputs": []
    },
    {
      "cell_type": "code",
      "source": [
        "b.grad = 0.5\n",
        "x1w1x2w2.grad = 0.5"
      ],
      "metadata": {
        "id": "GH9bjyiTrmzf"
      },
      "execution_count": 74,
      "outputs": []
    },
    {
      "cell_type": "code",
      "source": [
        "x1w1.grad = 0.5\n",
        "x2w2.grad = 0.5"
      ],
      "metadata": {
        "id": "2Toda0TJsw7v"
      },
      "execution_count": 79,
      "outputs": []
    },
    {
      "cell_type": "code",
      "source": [
        "x1.grad = w1.data * x1w1.grad\n",
        "w1.grad = x1.data * x1w1.grad"
      ],
      "metadata": {
        "id": "Wh_OlcSwsyd6"
      },
      "execution_count": 83,
      "outputs": []
    },
    {
      "cell_type": "code",
      "source": [
        "x2.grad = w2.data * x2w2.grad\n",
        "w2.grad = x2.data * x2w2.grad"
      ],
      "metadata": {
        "id": "mjGzwYObs9kt"
      },
      "execution_count": 84,
      "outputs": []
    },
    {
      "cell_type": "code",
      "source": [
        "o.grad = 1.0      #cz in the function definition inital o.grad is set to 0.0. can't backrpopegate if that's 0. so manually setting it to 1.0"
      ],
      "metadata": {
        "id": "dDioEx9Syn69"
      },
      "execution_count": 141,
      "outputs": []
    },
    {
      "cell_type": "markdown",
      "source": [
        "# calling backward for each node seperately"
      ],
      "metadata": {
        "id": "ZtYBQkzL4m8R"
      }
    },
    {
      "cell_type": "code",
      "source": [
        "o._backward ()"
      ],
      "metadata": {
        "id": "BCsA8ogjzozT"
      },
      "execution_count": 129,
      "outputs": []
    },
    {
      "cell_type": "code",
      "source": [
        "n._backward ()"
      ],
      "metadata": {
        "id": "b76n14pw0mDS"
      },
      "execution_count": 117,
      "outputs": []
    },
    {
      "cell_type": "code",
      "source": [
        "x1w1x2w2._backward ()\n",
        "b._backward ()      #nothing will happen cz b is a leaf node"
      ],
      "metadata": {
        "id": "Lc4nZ-eg1h8m"
      },
      "execution_count": 119,
      "outputs": []
    },
    {
      "cell_type": "code",
      "source": [
        "x1w1._backward ()\n",
        "x2w2._backward ()"
      ],
      "metadata": {
        "id": "T-m43O8T1sQl"
      },
      "execution_count": 121,
      "outputs": []
    },
    {
      "cell_type": "markdown",
      "source": [
        "# calling backward only once using topological order"
      ],
      "metadata": {
        "id": "WPd0oTCy4uRu"
      }
    },
    {
      "cell_type": "code",
      "source": [
        "# creating topological order\n",
        "topo = []\n",
        "visited = set()\n",
        "def build_topo(v):\n",
        "    if v not in visited:\n",
        "        visited.add(v)\n",
        "        for child in v._prev:\n",
        "            build_topo(child)\n",
        "        topo.append(v)\n",
        "build_topo(o)\n",
        "topo"
      ],
      "metadata": {
        "colab": {
          "base_uri": "https://localhost:8080/"
        },
        "id": "UIsn5aqd27BZ",
        "outputId": "03d20e2f-46be-4fab-df27-a06ca5f3590d"
      },
      "execution_count": 133,
      "outputs": [
        {
          "output_type": "execute_result",
          "data": {
            "text/plain": [
              "[value(data=6.881373587019543),\n",
              " value(data=-3.0),\n",
              " value(data=2.0),\n",
              " value(data=-6.0),\n",
              " value(data=0.0),\n",
              " value(data=1.0),\n",
              " value(data=0.0),\n",
              " value(data=-6.0),\n",
              " value(data=0.8813735870195432),\n",
              " value(data=0.7071067811865476)]"
            ]
          },
          "metadata": {},
          "execution_count": 133
        }
      ]
    },
    {
      "cell_type": "code",
      "source": [
        "for node in reversed(topo):\n",
        "    node._backward()"
      ],
      "metadata": {
        "id": "YQELgZfk4TZO"
      },
      "execution_count": 136,
      "outputs": []
    },
    {
      "cell_type": "markdown",
      "source": [
        "# calling master backward from class value\n",
        "\n"
      ],
      "metadata": {
        "id": "3_NV996p6e3p"
      }
    },
    {
      "cell_type": "code",
      "source": [
        "o.backward()"
      ],
      "metadata": {
        "id": "Tf3jLqgB6dl3"
      },
      "execution_count": 154,
      "outputs": []
    },
    {
      "cell_type": "markdown",
      "source": [
        "fixing bugs"
      ],
      "metadata": {
        "id": "w27tuOec-2er"
      }
    },
    {
      "cell_type": "code",
      "source": [
        "a = value(-2.0, label = 'a')\n",
        "b = a + a ; b.label = 'b'\n",
        "b.backward()\n",
        "draw_dot(b)"
      ],
      "metadata": {
        "colab": {
          "base_uri": "https://localhost:8080/",
          "height": 82
        },
        "id": "X9PVqf09-j1F",
        "outputId": "3a8c9fee-78e9-4bca-8cc0-7fdf475f4dc1"
      },
      "execution_count": 159,
      "outputs": [
        {
          "output_type": "execute_result",
          "data": {
            "image/svg+xml": "<?xml version=\"1.0\" encoding=\"UTF-8\" standalone=\"no\"?>\n<!DOCTYPE svg PUBLIC \"-//W3C//DTD SVG 1.1//EN\"\n \"http://www.w3.org/Graphics/SVG/1.1/DTD/svg11.dtd\">\n<!-- Generated by graphviz version 2.43.0 (0)\n -->\n<!-- Title: %3 Pages: 1 -->\n<svg width=\"514pt\" height=\"45pt\"\n viewBox=\"0.00 0.00 514.00 45.00\" xmlns=\"http://www.w3.org/2000/svg\" xmlns:xlink=\"http://www.w3.org/1999/xlink\">\n<g id=\"graph0\" class=\"graph\" transform=\"scale(1 1) rotate(0) translate(4 41)\">\n<title>%3</title>\n<polygon fill=\"white\" stroke=\"transparent\" points=\"-4,4 -4,-41 510,-41 510,4 -4,4\"/>\n<!-- 132098997990752 -->\n<g id=\"node1\" class=\"node\">\n<title>132098997990752</title>\n<polygon fill=\"none\" stroke=\"black\" points=\"0,-0.5 0,-36.5 190,-36.5 190,-0.5 0,-0.5\"/>\n<text text-anchor=\"middle\" x=\"11.5\" y=\"-14.8\" font-family=\"Times,serif\" font-size=\"14.00\">a</text>\n<polyline fill=\"none\" stroke=\"black\" points=\"23,-0.5 23,-36.5 \"/>\n<text text-anchor=\"middle\" x=\"65.5\" y=\"-14.8\" font-family=\"Times,serif\" font-size=\"14.00\">data &#45;2.0000</text>\n<polyline fill=\"none\" stroke=\"black\" points=\"108,-0.5 108,-36.5 \"/>\n<text text-anchor=\"middle\" x=\"149\" y=\"-14.8\" font-family=\"Times,serif\" font-size=\"14.00\">grad 2.0000</text>\n</g>\n<!-- 132098997991520+ -->\n<g id=\"node3\" class=\"node\">\n<title>132098997991520+</title>\n<ellipse fill=\"none\" stroke=\"black\" cx=\"253\" cy=\"-18.5\" rx=\"27\" ry=\"18\"/>\n<text text-anchor=\"middle\" x=\"253\" y=\"-14.8\" font-family=\"Times,serif\" font-size=\"14.00\">+</text>\n</g>\n<!-- 132098997990752&#45;&gt;132098997991520+ -->\n<g id=\"edge2\" class=\"edge\">\n<title>132098997990752&#45;&gt;132098997991520+</title>\n<path fill=\"none\" stroke=\"black\" d=\"M190.34,-18.5C199.26,-18.5 207.87,-18.5 215.69,-18.5\"/>\n<polygon fill=\"black\" stroke=\"black\" points=\"215.82,-22 225.82,-18.5 215.82,-15 215.82,-22\"/>\n</g>\n<!-- 132098997991520 -->\n<g id=\"node2\" class=\"node\">\n<title>132098997991520</title>\n<polygon fill=\"none\" stroke=\"black\" points=\"316,-0.5 316,-36.5 506,-36.5 506,-0.5 316,-0.5\"/>\n<text text-anchor=\"middle\" x=\"327.5\" y=\"-14.8\" font-family=\"Times,serif\" font-size=\"14.00\">b</text>\n<polyline fill=\"none\" stroke=\"black\" points=\"339,-0.5 339,-36.5 \"/>\n<text text-anchor=\"middle\" x=\"381.5\" y=\"-14.8\" font-family=\"Times,serif\" font-size=\"14.00\">data &#45;4.0000</text>\n<polyline fill=\"none\" stroke=\"black\" points=\"424,-0.5 424,-36.5 \"/>\n<text text-anchor=\"middle\" x=\"465\" y=\"-14.8\" font-family=\"Times,serif\" font-size=\"14.00\">grad 1.0000</text>\n</g>\n<!-- 132098997991520+&#45;&gt;132098997991520 -->\n<g id=\"edge1\" class=\"edge\">\n<title>132098997991520+&#45;&gt;132098997991520</title>\n<path fill=\"none\" stroke=\"black\" d=\"M280.11,-18.5C287.63,-18.5 296.32,-18.5 305.58,-18.5\"/>\n<polygon fill=\"black\" stroke=\"black\" points=\"305.81,-22 315.81,-18.5 305.81,-15 305.81,-22\"/>\n</g>\n</g>\n</svg>\n",
            "text/plain": [
              "<graphviz.graphs.Digraph at 0x7824b1d9b230>"
            ]
          },
          "metadata": {},
          "execution_count": 159
        }
      ]
    },
    {
      "cell_type": "code",
      "source": [
        "a = value(-2.0, label = 'a')\n",
        "b = value(3.0, label = 'b')\n",
        "d = a*b ; d.label = 'd'\n",
        "e = a+b ; e.label = 'e'\n",
        "f = d*e ; f.label = 'f'\n",
        "\n",
        "f.backward ()\n",
        "\n",
        "draw_dot(f)"
      ],
      "metadata": {
        "colab": {
          "base_uri": "https://localhost:8080/",
          "height": 155
        },
        "id": "03sjEkAK9664",
        "outputId": "7343d323-20d4-410e-c2b2-c63cf2fccf50"
      },
      "execution_count": 158,
      "outputs": [
        {
          "output_type": "execute_result",
          "data": {
            "image/svg+xml": "<?xml version=\"1.0\" encoding=\"UTF-8\" standalone=\"no\"?>\n<!DOCTYPE svg PUBLIC \"-//W3C//DTD SVG 1.1//EN\"\n \"http://www.w3.org/Graphics/SVG/1.1/DTD/svg11.dtd\">\n<!-- Generated by graphviz version 2.43.0 (0)\n -->\n<!-- Title: %3 Pages: 1 -->\n<svg width=\"832pt\" height=\"100pt\"\n viewBox=\"0.00 0.00 832.00 100.00\" xmlns=\"http://www.w3.org/2000/svg\" xmlns:xlink=\"http://www.w3.org/1999/xlink\">\n<g id=\"graph0\" class=\"graph\" transform=\"scale(1 1) rotate(0) translate(4 96)\">\n<title>%3</title>\n<polygon fill=\"white\" stroke=\"transparent\" points=\"-4,4 -4,-96 828,-96 828,4 -4,4\"/>\n<!-- 132098998829616 -->\n<g id=\"node1\" class=\"node\">\n<title>132098998829616</title>\n<polygon fill=\"none\" stroke=\"black\" points=\"636,-27.5 636,-63.5 824,-63.5 824,-27.5 636,-27.5\"/>\n<text text-anchor=\"middle\" x=\"646.5\" y=\"-41.8\" font-family=\"Times,serif\" font-size=\"14.00\">f</text>\n<polyline fill=\"none\" stroke=\"black\" points=\"657,-27.5 657,-63.5 \"/>\n<text text-anchor=\"middle\" x=\"699.5\" y=\"-41.8\" font-family=\"Times,serif\" font-size=\"14.00\">data &#45;6.0000</text>\n<polyline fill=\"none\" stroke=\"black\" points=\"742,-27.5 742,-63.5 \"/>\n<text text-anchor=\"middle\" x=\"783\" y=\"-41.8\" font-family=\"Times,serif\" font-size=\"14.00\">grad 1.0000</text>\n</g>\n<!-- 132098998829616* -->\n<g id=\"node2\" class=\"node\">\n<title>132098998829616*</title>\n<ellipse fill=\"none\" stroke=\"black\" cx=\"573\" cy=\"-45.5\" rx=\"27\" ry=\"18\"/>\n<text text-anchor=\"middle\" x=\"573\" y=\"-41.8\" font-family=\"Times,serif\" font-size=\"14.00\">*</text>\n</g>\n<!-- 132098998829616*&#45;&gt;132098998829616 -->\n<g id=\"edge1\" class=\"edge\">\n<title>132098998829616*&#45;&gt;132098998829616</title>\n<path fill=\"none\" stroke=\"black\" d=\"M600.29,-45.5C607.78,-45.5 616.42,-45.5 625.6,-45.5\"/>\n<polygon fill=\"black\" stroke=\"black\" points=\"625.76,-49 635.76,-45.5 625.76,-42 625.76,-49\"/>\n</g>\n<!-- 132098997990992 -->\n<g id=\"node3\" class=\"node\">\n<title>132098997990992</title>\n<polygon fill=\"none\" stroke=\"black\" points=\"0,-55.5 0,-91.5 194,-91.5 194,-55.5 0,-55.5\"/>\n<text text-anchor=\"middle\" x=\"11.5\" y=\"-69.8\" font-family=\"Times,serif\" font-size=\"14.00\">a</text>\n<polyline fill=\"none\" stroke=\"black\" points=\"23,-55.5 23,-91.5 \"/>\n<text text-anchor=\"middle\" x=\"65.5\" y=\"-69.8\" font-family=\"Times,serif\" font-size=\"14.00\">data &#45;2.0000</text>\n<polyline fill=\"none\" stroke=\"black\" points=\"108,-55.5 108,-91.5 \"/>\n<text text-anchor=\"middle\" x=\"151\" y=\"-69.8\" font-family=\"Times,serif\" font-size=\"14.00\">grad &#45;3.0000</text>\n</g>\n<!-- 132098998831824+ -->\n<g id=\"node5\" class=\"node\">\n<title>132098998831824+</title>\n<ellipse fill=\"none\" stroke=\"black\" cx=\"257\" cy=\"-73.5\" rx=\"27\" ry=\"18\"/>\n<text text-anchor=\"middle\" x=\"257\" y=\"-69.8\" font-family=\"Times,serif\" font-size=\"14.00\">+</text>\n</g>\n<!-- 132098997990992&#45;&gt;132098998831824+ -->\n<g id=\"edge5\" class=\"edge\">\n<title>132098997990992&#45;&gt;132098998831824+</title>\n<path fill=\"none\" stroke=\"black\" d=\"M194.01,-73.5C202.98,-73.5 211.65,-73.5 219.51,-73.5\"/>\n<polygon fill=\"black\" stroke=\"black\" points=\"219.7,-77 229.7,-73.5 219.7,-70 219.7,-77\"/>\n</g>\n<!-- 132098997986192* -->\n<g id=\"node7\" class=\"node\">\n<title>132098997986192*</title>\n<ellipse fill=\"none\" stroke=\"black\" cx=\"257\" cy=\"-18.5\" rx=\"27\" ry=\"18\"/>\n<text text-anchor=\"middle\" x=\"257\" y=\"-14.8\" font-family=\"Times,serif\" font-size=\"14.00\">*</text>\n</g>\n<!-- 132098997990992&#45;&gt;132098997986192* -->\n<g id=\"edge9\" class=\"edge\">\n<title>132098997990992&#45;&gt;132098997986192*</title>\n<path fill=\"none\" stroke=\"black\" d=\"M166.84,-55.49C176.04,-52.69 185.3,-49.67 194,-46.5 204.51,-42.67 215.73,-37.84 225.7,-33.28\"/>\n<polygon fill=\"black\" stroke=\"black\" points=\"227.23,-36.43 234.81,-29.02 224.27,-30.09 227.23,-36.43\"/>\n</g>\n<!-- 132098998831824 -->\n<g id=\"node4\" class=\"node\">\n<title>132098998831824</title>\n<polygon fill=\"none\" stroke=\"black\" points=\"320.5,-55.5 320.5,-91.5 509.5,-91.5 509.5,-55.5 320.5,-55.5\"/>\n<text text-anchor=\"middle\" x=\"332\" y=\"-69.8\" font-family=\"Times,serif\" font-size=\"14.00\">e</text>\n<polyline fill=\"none\" stroke=\"black\" points=\"343.5,-55.5 343.5,-91.5 \"/>\n<text text-anchor=\"middle\" x=\"383.5\" y=\"-69.8\" font-family=\"Times,serif\" font-size=\"14.00\">data 1.0000</text>\n<polyline fill=\"none\" stroke=\"black\" points=\"423.5,-55.5 423.5,-91.5 \"/>\n<text text-anchor=\"middle\" x=\"466.5\" y=\"-69.8\" font-family=\"Times,serif\" font-size=\"14.00\">grad &#45;6.0000</text>\n</g>\n<!-- 132098998831824&#45;&gt;132098998829616* -->\n<g id=\"edge7\" class=\"edge\">\n<title>132098998831824&#45;&gt;132098998829616*</title>\n<path fill=\"none\" stroke=\"black\" d=\"M509.9,-56.65C519.42,-54.94 528.62,-53.29 536.89,-51.8\"/>\n<polygon fill=\"black\" stroke=\"black\" points=\"537.59,-55.23 546.81,-50.02 536.35,-48.34 537.59,-55.23\"/>\n</g>\n<!-- 132098998831824+&#45;&gt;132098998831824 -->\n<g id=\"edge2\" class=\"edge\">\n<title>132098998831824+&#45;&gt;132098998831824</title>\n<path fill=\"none\" stroke=\"black\" d=\"M284.11,-73.5C291.84,-73.5 300.8,-73.5 310.35,-73.5\"/>\n<polygon fill=\"black\" stroke=\"black\" points=\"310.48,-77 320.48,-73.5 310.48,-70 310.48,-77\"/>\n</g>\n<!-- 132098997986192 -->\n<g id=\"node6\" class=\"node\">\n<title>132098997986192</title>\n<polygon fill=\"none\" stroke=\"black\" points=\"320,-0.5 320,-36.5 510,-36.5 510,-0.5 320,-0.5\"/>\n<text text-anchor=\"middle\" x=\"331.5\" y=\"-14.8\" font-family=\"Times,serif\" font-size=\"14.00\">d</text>\n<polyline fill=\"none\" stroke=\"black\" points=\"343,-0.5 343,-36.5 \"/>\n<text text-anchor=\"middle\" x=\"385.5\" y=\"-14.8\" font-family=\"Times,serif\" font-size=\"14.00\">data &#45;6.0000</text>\n<polyline fill=\"none\" stroke=\"black\" points=\"428,-0.5 428,-36.5 \"/>\n<text text-anchor=\"middle\" x=\"469\" y=\"-14.8\" font-family=\"Times,serif\" font-size=\"14.00\">grad 1.0000</text>\n</g>\n<!-- 132098997986192&#45;&gt;132098998829616* -->\n<g id=\"edge8\" class=\"edge\">\n<title>132098997986192&#45;&gt;132098998829616*</title>\n<path fill=\"none\" stroke=\"black\" d=\"M510.34,-34.83C519.62,-36.44 528.58,-37.99 536.66,-39.38\"/>\n<polygon fill=\"black\" stroke=\"black\" points=\"536.27,-42.87 546.72,-41.12 537.46,-35.97 536.27,-42.87\"/>\n</g>\n<!-- 132098997986192*&#45;&gt;132098997986192 -->\n<g id=\"edge3\" class=\"edge\">\n<title>132098997986192*&#45;&gt;132098997986192</title>\n<path fill=\"none\" stroke=\"black\" d=\"M284.11,-18.5C291.63,-18.5 300.32,-18.5 309.58,-18.5\"/>\n<polygon fill=\"black\" stroke=\"black\" points=\"309.81,-22 319.81,-18.5 309.81,-15 309.81,-22\"/>\n</g>\n<!-- 132098997990320 -->\n<g id=\"node8\" class=\"node\">\n<title>132098997990320</title>\n<polygon fill=\"none\" stroke=\"black\" points=\"2.5,-0.5 2.5,-36.5 191.5,-36.5 191.5,-0.5 2.5,-0.5\"/>\n<text text-anchor=\"middle\" x=\"14\" y=\"-14.8\" font-family=\"Times,serif\" font-size=\"14.00\">b</text>\n<polyline fill=\"none\" stroke=\"black\" points=\"25.5,-0.5 25.5,-36.5 \"/>\n<text text-anchor=\"middle\" x=\"65.5\" y=\"-14.8\" font-family=\"Times,serif\" font-size=\"14.00\">data 3.0000</text>\n<polyline fill=\"none\" stroke=\"black\" points=\"105.5,-0.5 105.5,-36.5 \"/>\n<text text-anchor=\"middle\" x=\"148.5\" y=\"-14.8\" font-family=\"Times,serif\" font-size=\"14.00\">grad &#45;8.0000</text>\n</g>\n<!-- 132098997990320&#45;&gt;132098998831824+ -->\n<g id=\"edge4\" class=\"edge\">\n<title>132098997990320&#45;&gt;132098998831824+</title>\n<path fill=\"none\" stroke=\"black\" d=\"M163.94,-36.53C174.08,-39.65 184.37,-43.01 194,-46.5 204.27,-50.22 215.26,-54.8 225.09,-59.12\"/>\n<polygon fill=\"black\" stroke=\"black\" points=\"223.91,-62.43 234.47,-63.32 226.77,-56.04 223.91,-62.43\"/>\n</g>\n<!-- 132098997990320&#45;&gt;132098997986192* -->\n<g id=\"edge6\" class=\"edge\">\n<title>132098997990320&#45;&gt;132098997986192*</title>\n<path fill=\"none\" stroke=\"black\" d=\"M191.74,-18.5C201.55,-18.5 211.04,-18.5 219.59,-18.5\"/>\n<polygon fill=\"black\" stroke=\"black\" points=\"219.87,-22 229.87,-18.5 219.87,-15 219.87,-22\"/>\n</g>\n</g>\n</svg>\n",
            "text/plain": [
              "<graphviz.graphs.Digraph at 0x7824b1e68cb0>"
            ]
          },
          "metadata": {},
          "execution_count": 158
        }
      ]
    }
  ]
}