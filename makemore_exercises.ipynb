{
  "nbformat": 4,
  "nbformat_minor": 0,
  "metadata": {
    "colab": {
      "provenance": [],
      "authorship_tag": "ABX9TyPMGGdQtX8PIRW+4qDl9ctL",
      "include_colab_link": true
    },
    "kernelspec": {
      "name": "python3",
      "display_name": "Python 3"
    },
    "language_info": {
      "name": "python"
    }
  },
  "cells": [
    {
      "cell_type": "markdown",
      "metadata": {
        "id": "view-in-github",
        "colab_type": "text"
      },
      "source": [
        "<a href=\"https://colab.research.google.com/github/FariaParvinMegha/deep_dive_NN/blob/main/makemore_exercises.ipynb\" target=\"_parent\"><img src=\"https://colab.research.google.com/assets/colab-badge.svg\" alt=\"Open In Colab\"/></a>"
      ]
    },
    {
      "cell_type": "code",
      "execution_count": null,
      "metadata": {
        "id": "jpNSxTh_ZcY6",
        "colab": {
          "base_uri": "https://localhost:8080/"
        },
        "outputId": "bca5428b-33e5-4344-a014-7f92c411e6ae"
      },
      "outputs": [
        {
          "output_type": "stream",
          "name": "stdout",
          "text": [
            "Mounted at /content/drive\n"
          ]
        }
      ],
      "source": [
        "from google.colab import drive\n",
        "drive.mount('/content/drive')"
      ]
    },
    {
      "cell_type": "code",
      "source": [
        "import torch\n",
        "import tensorflow as tf\n",
        "import matplotlib.pyplot as plt\n",
        "%matplotlib inline"
      ],
      "metadata": {
        "id": "lRpfyzkHcf2n"
      },
      "execution_count": null,
      "outputs": []
    },
    {
      "cell_type": "code",
      "source": [
        "words = open('/content/drive/MyDrive/NN_zero_to_hero/required_files/names.txt', 'r').read().splitlines()\n",
        "words[:12]"
      ],
      "metadata": {
        "colab": {
          "base_uri": "https://localhost:8080/"
        },
        "id": "EA0hHme6cjDN",
        "outputId": "5020b686-27d7-4acb-ae0b-f7a387252826"
      },
      "execution_count": null,
      "outputs": [
        {
          "output_type": "execute_result",
          "data": {
            "text/plain": [
              "['emma',\n",
              " 'olivia',\n",
              " 'ava',\n",
              " 'isabella',\n",
              " 'sophia',\n",
              " 'charlotte',\n",
              " 'mia',\n",
              " 'amelia',\n",
              " 'harper',\n",
              " 'evelyn',\n",
              " 'abigail',\n",
              " 'emily']"
            ]
          },
          "metadata": {},
          "execution_count": 3
        }
      ]
    },
    {
      "cell_type": "code",
      "source": [
        "print(len(words))\n",
        "print(max(len(w) for w in words))\n",
        "print(min(len(w) for w in words))"
      ],
      "metadata": {
        "colab": {
          "base_uri": "https://localhost:8080/"
        },
        "id": "nDdMELGoc_gk",
        "outputId": "94477246-4bb8-4c66-c881-ce98e2f51715"
      },
      "execution_count": null,
      "outputs": [
        {
          "output_type": "stream",
          "name": "stdout",
          "text": [
            "32033\n",
            "15\n",
            "2\n"
          ]
        }
      ]
    },
    {
      "cell_type": "code",
      "source": [
        "N  = torch.zeros((27,27), dtype = torch.int32)"
      ],
      "metadata": {
        "id": "OVRbT4dwfAqn"
      },
      "execution_count": null,
      "outputs": []
    },
    {
      "cell_type": "code",
      "source": [
        "chars = sorted(list(set(''.join(words))))               #sorted list of the characters in the dataset. set threw out the duplicated. so basically list of a-z\n",
        "s_to_i = {s:i+1 for i,s in enumerate(chars)}            # enumerate returns the integer index of a certain component of a list\n",
        "s_to_i ['.'] = 0\n",
        "i_to_s = {i:s for s,i in s_to_i.items()}"
      ],
      "metadata": {
        "id": "EaR6X_QAe1LC"
      },
      "execution_count": null,
      "outputs": []
    },
    {
      "cell_type": "code",
      "source": [
        "xs, ys = [], []\n",
        "for w in words:                                                               #creating trigrams count\n",
        "  chs = ['.'] +list(w) + ['.']\n",
        "  for ch1, ch2, ch3 in zip(chs, chs[1:], chs[2:]):\n",
        "    ix1 = s_to_i[ch1]\n",
        "    ix2 = s_to_i[ch2]\n",
        "    ix3 = s_to_i[ch3]\n",
        "    # print (ch1, ch2, ch3)\n",
        "    i_pair = [ix1, ix2]\n",
        "    xs.append(i_pair)\n",
        "    ys.append(ix3)\n",
        "\n",
        "xs = torch.tensor(xs)\n",
        "ys = torch.tensor(ys)\n",
        "\n",
        "num = torch.tensor(xs.nelement()//2)\n",
        "print('number of trigrams: ', num)\n",
        "print(xs.shape)"
      ],
      "metadata": {
        "colab": {
          "base_uri": "https://localhost:8080/"
        },
        "collapsed": true,
        "id": "P0cBLtZEe4rU",
        "outputId": "53d20191-b8d4-443d-c11e-c6e7045a5d9c"
      },
      "execution_count": null,
      "outputs": [
        {
          "output_type": "stream",
          "name": "stdout",
          "text": [
            "number of trigrams:  tensor(196113)\n",
            "torch.Size([196113, 2])\n"
          ]
        }
      ]
    },
    {
      "cell_type": "markdown",
      "source": [
        "# Creating NN"
      ],
      "metadata": {
        "id": "F9t2u3Zqd9_O"
      }
    },
    {
      "cell_type": "code",
      "source": [
        "from torch.utils.data import DataLoader, TensorDataset, random_split\n",
        "import torch.nn.functional as F"
      ],
      "metadata": {
        "id": "UemwOB8olfLh"
      },
      "execution_count": null,
      "outputs": []
    },
    {
      "cell_type": "code",
      "source": [
        "g = torch.Generator().manual_seed(2147483647)\n",
        "W = torch.randn((27, 27), generator=g, requires_grad=True)\n"
      ],
      "metadata": {
        "id": "EnDkogqvm712"
      },
      "execution_count": null,
      "outputs": []
    },
    {
      "cell_type": "code",
      "source": [
        "# gradient descent\n",
        "loss_history = [] # Initialize a list to store loss values\n",
        "for k in range(30):\n",
        "\n",
        "  # forward pass\n",
        "  xenc = F.one_hot(xs, num_classes=27).float() # input to the network: one-hot encoding\n",
        "  logits = xenc @ W # predict log-counts\n",
        "  counts = logits.exp() # counts, equivalent to N\n",
        "  probs = counts / counts.sum(1, keepdims=True) # probabilities for next character\n",
        "  loss = -probs[torch.arange(num), ..., ys].log().mean() + 0.01*(W**2).mean()       #softmax is used      #nll and regularization\n",
        "  print(loss.item())\n",
        "  loss_history.append(loss.item()) # Store the loss value\n",
        "\n",
        "  # backward pass\n",
        "  W.grad = None # set to zero the gradient\n",
        "  loss.backward()\n",
        "\n",
        "  # update\n",
        "  W.data += -50 * W.grad"
      ],
      "metadata": {
        "colab": {
          "base_uri": "https://localhost:8080/"
        },
        "id": "3JBOvK1hqXvG",
        "outputId": "d644ca92-8cf7-42de-afcf-c1264b11494d"
      },
      "execution_count": null,
      "outputs": [
        {
          "output_type": "stream",
          "name": "stdout",
          "text": [
            "0.9116867780685425\n",
            "0.8553094267845154\n",
            "0.8259212970733643\n",
            "0.8067570924758911\n",
            "0.7926292419433594\n",
            "0.781731128692627\n",
            "0.7730140089988708\n",
            "0.7658448219299316\n",
            "0.7598259449005127\n",
            "0.7546926140785217\n",
            "0.7502591013908386\n",
            "0.7463898658752441\n",
            "0.7429832220077515\n",
            "0.7399614453315735\n",
            "0.7372636198997498\n",
            "0.7348417639732361\n",
            "0.7326569557189941\n",
            "0.7306776642799377\n",
            "0.7288777828216553\n",
            "0.7272351980209351\n",
            "0.7257315516471863\n",
            "0.7243508696556091\n",
            "0.7230794429779053\n",
            "0.721905529499054\n",
            "0.720818817615509\n",
            "0.719810426235199\n",
            "0.7188723087310791\n",
            "0.7179978489875793\n",
            "0.7171807289123535\n",
            "0.7164156436920166\n"
          ]
        }
      ]
    },
    {
      "cell_type": "code",
      "metadata": {
        "colab": {
          "base_uri": "https://localhost:8080/",
          "height": 472
        },
        "id": "89449e86",
        "outputId": "cefa5a25-6bd0-4248-cf65-6c967b5c5ba0"
      },
      "source": [
        "plt.plot(loss_history)\n",
        "plt.xlabel(\"Iteration\")\n",
        "plt.ylabel(\"Loss\")\n",
        "plt.title(\"Training Loss over Iterations\")\n",
        "plt.grid(True)\n",
        "plt.show()"
      ],
      "execution_count": null,
      "outputs": [
        {
          "output_type": "display_data",
          "data": {
            "text/plain": [
              "<Figure size 640x480 with 1 Axes>"
            ],
            "image/png": "[encoded data removed]"
          },
          "metadata": {}
        }
      ]
    },
    {
      "cell_type": "markdown",
      "source": [
        "Trigram model showed huge improvement over bigram model. for a non-biased comparison i have kept the seed same as the bigram model."
      ],
      "metadata": {
        "id": "pRQG1S3DtNDT"
      }
    },
    {
      "cell_type": "markdown",
      "source": [
        "# dividing the dataset into training, validation and testing set"
      ],
      "metadata": {
        "id": "EhNZK2_huZrO"
      }
    },
    {
      "cell_type": "code",
      "source": [
        "dataset = TensorDataset(xs, ys)"
      ],
      "metadata": {
        "id": "D6qPtIbbi-kj"
      },
      "execution_count": null,
      "outputs": []
    },
    {
      "cell_type": "code",
      "source": [
        "num_items = len(dataset)\n",
        "train_items = int(0.8 * num_items)\n",
        "val_items = int(0.1 * num_items)\n",
        "test_items = num_items - train_items - val_items"
      ],
      "metadata": {
        "id": "PxXmoKPlmdT-"
      },
      "execution_count": null,
      "outputs": []
    },
    {
      "cell_type": "code",
      "source": [
        "g = torch.Generator().manual_seed(2147483647)"
      ],
      "metadata": {
        "id": "LiGld3X-u34v"
      },
      "execution_count": null,
      "outputs": []
    },
    {
      "cell_type": "code",
      "source": [
        "train_dataset, val_dataset, test_dataset = random_split(dataset, [train_items, val_items, test_items], generator=g)\n"
      ],
      "metadata": {
        "id": "GbyFoYWjYo5S"
      },
      "execution_count": null,
      "outputs": []
    },
    {
      "cell_type": "code",
      "source": [
        "train_data = torch.stack([item[0] for item in train_dataset])\n",
        "train_label = torch.stack([item[1] for item in train_dataset])          # could've used train_data = train_dataset[:][0] train_labels = train_dataset[:][1] syntax.\n",
        "                                                                        # here [:] access the whole tensor subset and [0]&[1] helps to access and store the xs and ys respectively.\n",
        "val_data = torch.stack([item[0] for item in val_dataset])               # (not efficient)\n",
        "val_label = torch.stack([item[1] for item in val_dataset])\n",
        "\n",
        "test_data = torch.stack([item[0] for item in test_dataset])               # (not efficient)\n",
        "test_label = torch.stack([item[1] for item in test_dataset])\n"
      ],
      "metadata": {
        "id": "XocaInMxaOZb"
      },
      "execution_count": 34,
      "outputs": []
    },
    {
      "cell_type": "code",
      "source": [
        "# def train(reg_strength, epochs=200):\n",
        "  \"\"\"\n",
        "  Trains a simple neural network model for character prediction.\n",
        "\n",
        "  Args:\n",
        "    reg_strength (float): The strength of the L2 regularization term.\n",
        "    epochs (int, optional): The number of training epochs. Defaults to 200.\n",
        "\n",
        "  Returns:\n",
        "    tuple: A tuple containing:\n",
        "      - W (torch.Tensor): The trained weight tensor.\n",
        "      - final_loss (float): The final loss value after training.\n",
        "  \"\"\"\n",
        "  # initialize the 'network'\n",
        "  # W is the weight matrix. It has a shape of (54, 27) to handle\n",
        "  # the concatenated one-hot encoded input of two characters (27 + 27 = 54)\n",
        "  # and output probabilities for the next character (27 possible characters).\n",
        "  # requires_grad=True enables gradient calculation for backpropagation.\n",
        "  # W = torch.randn((54, 27), generator=g, requires_grad=True)\n",
        "  # loss = 0.0 # Initialize loss variable\n",
        "\n",
        "  # gradient descent\n",
        "  # Loop for the specified number of training epochs\n",
        "  # for k in range(epochs):\n",
        "\n",
        "    # Split the weight matrix W into two parts:\n",
        "    # W1 for the first input character's one-hot encoding (first 27 rows)\n",
        "    # W2 for the second input character's one-hot encoding (remaining 27 rows)\n",
        "    # W1 = W[:27]\n",
        "    # W2 = W[27:]\n",
        "\n",
        "    # Perform the forward pass:\n",
        "    # 1. train_data[:, 0] gets the indices of the first character in each pair from the training data.\n",
        "    # 2. train_data[:, 1] gets the indices of the second character in each pair from the training data.\n",
        "    # 3. W1[train_data[:, 0]] selects the rows from W1 corresponding to the first characters' indices.\n",
        "    # 4. W2[train_data[:, 1]] selects the rows from W2 corresponding to the second characters' indices.\n",
        "    # 5. The results from W1 and W2 are added element-wise. This is equivalent to\n",
        "    #    (one_hot(char1) @ W1) + (one_hot(char2) @ W2)\n",
        "    #    where one_hot() is the one-hot encoding function.\n",
        "    # 6. The result, logits, represents the raw scores (log-counts) for each possible next character.\n",
        "    # logits = W1[train_data[:, 0]] + W2[train_data[:, 1]]\n",
        "\n",
        "    # Calculate the loss:\n",
        "    # 1. F.cross_entropy calculates the cross-entropy loss between the logits and the true labels (train_label).\n",
        "    #    Cross-entropy is a common loss function for classification tasks.\n",
        "    # 2. reg_strength*(W**2).mean() calculates the L2 regularization term.\n",
        "    #    It penalizes large weights to prevent overfitting. The mean of the squared weights\n",
        "    #    is multiplied by the regularization strength.\n",
        "    # 3. The total loss is the sum of the cross-entropy loss and the regularization term.\n",
        "    # loss = F.cross_entropy(logits, train_label) + reg_strength*(W**2).mean()\n",
        "\n",
        "    # Print the loss for the current epoch\n",
        "    # print(loss.item())\n",
        "\n",
        "    # backward pass\n",
        "    # Reset the gradients of W to zero before calculating new gradients.\n",
        "    # This is important because gradients accumulate by default in PyTorch.\n",
        "    # W.grad = None # set to zero the gradient\n",
        "    # Perform backpropagation: calculates the gradients of the loss with respect to W.\n",
        "    # loss.backward()\n",
        "\n",
        "    # update\n",
        "    # Update the weights using gradient descent.\n",
        "    # W.data is used to modify the tensor in-place without tracking the operation for gradient calculation.\n",
        "    # -50 is the learning rate, controlling the step size of the update.\n",
        "    # W.grad is the calculated gradient of the loss with respect to W.\n",
        "    # W.data += -50 * W.grad\n",
        "\n",
        "  # Return the trained weight tensor and the final loss value\n",
        "  # return W, loss.item()"
      ],
      "metadata": {
        "id": "zZelK_sa0LsP"
      },
      "execution_count": null,
      "outputs": []
    },
    {
      "cell_type": "markdown",
      "source": [
        "training function"
      ],
      "metadata": {
        "id": "dK4EmeV6COQH"
      }
    },
    {
      "cell_type": "code",
      "source": [
        "loss_history = []\n",
        "def train(regularization, epochs=50):\n",
        "\n",
        "  W = torch.randn((54, 27), generator=g, requires_grad=True)\n",
        "  loss = 0.0\n",
        "\n",
        "  for k in range(epochs):\n",
        "\n",
        "    W1 = W[:27]                             #old method: building a 27dimensional vector full of zeros except on 1 in each row and multiplying the whole thing with w. (takes lots of memory)\n",
        "    W2 = W[27:]                             #new method: we know which one will be the 1. so just pick that up and multiply them with w directly.\n",
        "                                            # that's why we split w into w1 and w2. for each characters of the input\n",
        "\n",
        "    logits = W1[train_data[:, 0]] + W2[train_data[:, 1]]          #here we multiplied only that specific w with the training data. and thus one-hot encoding is performed implicitly\n",
        "    loss = F.cross_entropy(logits, train_label) + regularization*(W**2).mean()        #cross_entropy is used instead of softmax. better for classification type problems like this\n",
        "    print(loss.item())\n",
        "    loss_history.append(loss.item())\n",
        "\n",
        "    W.grad = None # set to zero the gradient\n",
        "    loss.backward()\n",
        "    W.data += -50 * W.grad\n",
        "  return W, loss.item()\n"
      ],
      "metadata": {
        "id": "EUeAY_079tJz"
      },
      "execution_count": 46,
      "outputs": []
    },
    {
      "cell_type": "markdown",
      "source": [
        "evaluation function"
      ],
      "metadata": {
        "id": "Pwr9uVKwCRHy"
      }
    },
    {
      "cell_type": "code",
      "source": [
        "loss_history= []\n",
        "def evaluate_loss(W, xs, ys):\n",
        "  W1 = W[:27]\n",
        "  W2 = W[27:]\n",
        "\n",
        "  logits = W1[xs[:, 0]] + W2[xs[:, 1]]\n",
        "  loss = F.cross_entropy(logits, ys)\n",
        "  loss_history.append(loss.item())\n",
        "\n",
        "  return loss.item()"
      ],
      "metadata": {
        "id": "dsLeVMph96s6"
      },
      "execution_count": 50,
      "outputs": []
    },
    {
      "cell_type": "code",
      "source": [
        "train_losses = []\n",
        "val_losses = []\n",
        "regularization = []\n",
        "\n",
        "for i in torch.linspace(0, 0.25, 50):\n",
        "  W, train_loss = train(i)\n",
        "  train_losses.append(train_loss)\n",
        "  val_losses.append(evaluate_loss(W, val_data, val_label))\n",
        "  regularization.append(i.item())"
      ],
      "metadata": {
        "id": "kCVa6jMdAZkZ"
      },
      "execution_count": 42,
      "outputs": []
    },
    {
      "cell_type": "markdown",
      "source": [
        "tasted various regularization value on training and validation set to find ouot whoch works the best. 50 values are taken between 0 and 0.25 at regular interval. the losses are recorded fro each value and shown in a plot"
      ],
      "metadata": {
        "id": "XAWN1PtEDwzf"
      }
    },
    {
      "cell_type": "code",
      "source": [
        "plt.figure(figsize=(10, 6))\n",
        "plt.plot(regularization, train_losses, label='Training Loss', marker='o')\n",
        "plt.plot(regularization, val_losses, label='Validation Loss', marker='x')\n",
        "plt.xlabel('Regularization Strength')\n",
        "plt.ylabel('Loss')\n",
        "plt.title('Training and Validation Loss vs. Regularization Strength')\n",
        "plt.legend()\n",
        "plt.grid(True)\n",
        "plt.show()"
      ],
      "metadata": {
        "colab": {
          "base_uri": "https://localhost:8080/",
          "height": 411
        },
        "id": "YoFhebgYBgPn",
        "outputId": "b8cf8466-8a1d-42e3-db10-d397caafb12c"
      },
      "execution_count": 43,
      "outputs": [
        {
          "output_type": "display_data",
          "data": {
            "text/plain": [
              "<Figure size 1000x600 with 1 Axes>"
            ],
            "image/png": "[encoded data removed]"
          },
          "metadata": {}
        }
      ]
    },
    {
      "cell_type": "markdown",
      "source": [
        "from the graph it is seen that at 0.07 regularization the validation loss is minimum. so taking that. grater regularization = greater loss. causes underfitting."
      ],
      "metadata": {
        "id": "Ty1b387PDjh2"
      }
    },
    {
      "cell_type": "code",
      "source": [
        "w, train_loss = train(0.07, 50)"
      ],
      "metadata": {
        "colab": {
          "base_uri": "https://localhost:8080/"
        },
        "collapsed": true,
        "id": "wvziJCFXDXrR",
        "outputId": "7541cc51-0538-4042-b934-08768729d035"
      },
      "execution_count": 47,
      "outputs": [
        {
          "output_type": "stream",
          "name": "stdout",
          "text": [
            "3.9718549251556396\n",
            "3.269198417663574\n",
            "2.9897048473358154\n",
            "2.84183669090271\n",
            "2.7482104301452637\n",
            "2.6824827194213867\n",
            "2.6339128017425537\n",
            "2.5962798595428467\n",
            "2.5661063194274902\n",
            "2.54119873046875\n",
            "2.5202555656433105\n",
            "2.5023694038391113\n",
            "2.4869325160980225\n",
            "2.4734785556793213\n",
            "2.461665391921997\n",
            "2.4512157440185547\n",
            "2.441915273666382\n",
            "2.433586597442627\n",
            "2.4260871410369873\n",
            "2.4192984104156494\n",
            "2.4131226539611816\n",
            "2.4074792861938477\n",
            "2.4023001194000244\n",
            "2.397529363632202\n",
            "2.3931188583374023\n",
            "2.389028787612915\n",
            "2.3852250576019287\n",
            "2.3816776275634766\n",
            "2.3783624172210693\n",
            "2.3752567768096924\n",
            "2.372342348098755\n",
            "2.3696019649505615\n",
            "2.367021322250366\n",
            "2.36458683013916\n",
            "2.3622870445251465\n",
            "2.360111951828003\n",
            "2.3580515384674072\n",
            "2.356097936630249\n",
            "2.354243278503418\n",
            "2.3524796962738037\n",
            "2.350802183151245\n",
            "2.3492040634155273\n",
            "2.3476808071136475\n",
            "2.346226930618286\n",
            "2.3448381423950195\n",
            "2.343510150909424\n",
            "2.3422398567199707\n",
            "2.3410232067108154\n",
            "2.3398571014404297\n",
            "2.338738441467285\n"
          ]
        }
      ]
    },
    {
      "cell_type": "markdown",
      "source": [
        "used the optimum w from above to finally training and testing"
      ],
      "metadata": {
        "id": "jyEDJn64HL04"
      }
    },
    {
      "cell_type": "code",
      "source": [
        "plt.plot(loss_history)\n",
        "plt.xlabel(\"Iteration\")\n",
        "plt.ylabel(\"Loss\")\n",
        "plt.title(\"Training Loss over Iterations\")\n",
        "plt.grid(True)\n",
        "plt.show()"
      ],
      "metadata": {
        "colab": {
          "base_uri": "https://localhost:8080/",
          "height": 472
        },
        "id": "RjhyS9SAFroU",
        "outputId": "999274f1-4132-42b6-fd69-a5d75f5ffd9f"
      },
      "execution_count": 48,
      "outputs": [
        {
          "output_type": "display_data",
          "data": {
            "text/plain": [
              "<Figure size 640x480 with 1 Axes>"
            ],
            "image/png": "[encoded data removed]"
          },
          "metadata": {}
        }
      ]
    },
    {
      "cell_type": "code",
      "source": [
        "evaluate_loss(W, test_data, test_label)"
      ],
      "metadata": {
        "colab": {
          "base_uri": "https://localhost:8080/"
        },
        "id": "HWVF3nqMGbHw",
        "outputId": "3a815452-1e67-4414-8629-108537fe836f"
      },
      "execution_count": 51,
      "outputs": [
        {
          "output_type": "execute_result",
          "data": {
            "text/plain": [
              "2.311372756958008"
            ]
          },
          "metadata": {},
          "execution_count": 51
        }
      ]
    },
    {
      "cell_type": "markdown",
      "source": [
        "let's do prediction"
      ],
      "metadata": {
        "id": "oImdaf-nIMgX"
      }
    },
    {
      "cell_type": "code",
      "source": [
        "g = torch.Generator().manual_seed(2147483647)\n",
        "\n",
        "for i in range(5):\n",
        "\n",
        "  out = []\n",
        "  W1 = W[:27]\n",
        "  W2 = W[27:]\n",
        "  x1, x2 = 0, 0\n",
        "  while True:\n",
        "    x1, x2 = torch.tensor([x1]), torch.tensor([x2])\n",
        "\n",
        "    logits = W1[x1] + W2[x2]\n",
        "\n",
        "    counts = logits.exp() # counts, equivalent to N\n",
        "    p = counts / counts.sum(1, keepdims=True) # probabilities for next character\n",
        "    # ----------\n",
        "\n",
        "    x1 = x2\n",
        "    x2 = torch.multinomial(p, num_samples=1, replacement=True, generator=g).item()\n",
        "    out.append(i_to_s[x2])\n",
        "    if x2 == 0:\n",
        "      break\n",
        "  print(''.join(out))"
      ],
      "metadata": {
        "colab": {
          "base_uri": "https://localhost:8080/"
        },
        "id": "uv3rZdYfIGWK",
        "outputId": "f81bfa41-6528-4ba9-e083-70ef5b0748ce"
      },
      "execution_count": 52,
      "outputs": [
        {
          "output_type": "stream",
          "name": "stdout",
          "text": [
            "dex.\n",
            "amiegllurailazityh.\n",
            "elllimittain.\n",
            "lusan.\n",
            "ka.\n"
          ]
        }
      ]
    }
  ]
}